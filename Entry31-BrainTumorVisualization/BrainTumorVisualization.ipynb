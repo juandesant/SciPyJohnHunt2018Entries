{
 "cells": [
  {
   "cell_type": "code",
   "execution_count": 1,
   "metadata": {},
   "outputs": [],
   "source": [
    "import itk # Use \"conda install -c conda-forge itk\" to install\n",
    "import nibabel as nib # Use \"conda install -c conda-forge nibabel\" to install\n",
    "import numpy as np\n",
    "\n",
    "from itkwidgets import view # Use \"conda install -c conda-forge itkwidgets\" to install"
   ]
  },
  {
   "cell_type": "code",
   "execution_count": 2,
   "metadata": {},
   "outputs": [],
   "source": [
    "# Dataset number 10 from:\n",
    "# http://nist.mni.mcgill.ca/?page_id=672\n",
    "# Rivaz, H., Chen, S, Collins, DL., Automatic Deformable MR-Ultrasound Registration for Image-Guided Neurosurgery, IEEE Trans. Medical Imaging, 2015, 34(2): 366–380\n",
    "file_name = 'MR.mnc'\n",
    "image = nib.load('MR.mnc')"
   ]
  },
  {
   "cell_type": "code",
   "execution_count": 3,
   "metadata": {},
   "outputs": [],
   "source": [
    "image = itk.GetImageFromArray(image.get_data().astype(np.float32))"
   ]
  },
  {
   "cell_type": "code",
   "execution_count": 4,
   "metadata": {},
   "outputs": [
    {
     "data": {
      "application/vnd.jupyter.widget-view+json": {
       "model_id": "698081795c7a4eaeb8c29cc07110b5bb",
       "version_major": 2,
       "version_minor": 0
      },
      "text/plain": [
       "Viewer(gradient_opacity=0.22, rendered_image=<itkImagePython.itkImageF3; proxy of <Swig Object of type 'itkIma…"
      ]
     },
     "metadata": {},
     "output_type": "display_data"
    }
   ],
   "source": [
    "view(image)"
   ]
  },
  {
   "cell_type": "code",
   "execution_count": 5,
   "metadata": {},
   "outputs": [],
   "source": [
    "hessian_filter = itk.HessianRecursiveGaussianImageFilter.New(image)"
   ]
  },
  {
   "cell_type": "code",
   "execution_count": 6,
   "metadata": {},
   "outputs": [],
   "source": [
    "hessian_filter.SetSigma(1.2)\n",
    "vesselness_filter = itk.Hessian3DToVesselnessMeasureImageFilter[itk.ctype('float')].New()\n",
    "vesselness_filter.SetInput(hessian_filter.GetOutput())\n",
    "vesselness_filter.Update()\n",
    "#view(vesselness_filter)"
   ]
  },
  {
   "cell_type": "code",
   "execution_count": 7,
   "metadata": {},
   "outputs": [],
   "source": [
    "objectness = itk.HessianToObjectnessMeasureImageFilter[type(hessian_filter.GetOutput()), type(image)].New()\n",
    "objectness.SetBrightObject(True)\n",
    "objectness.SetScaleObjectnessMeasure(True)\n",
    "objectness.SetAlpha(0.5)\n",
    "objectness.SetBeta(1.0)\n",
    "objectness.SetGamma(5.0)"
   ]
  },
  {
   "cell_type": "code",
   "execution_count": 11,
   "metadata": {},
   "outputs": [
    {
     "ename": "AttributeError",
     "evalue": "module 'itk' has no attribute 'MultiScaleHessianBasedMeasureImageFilter'",
     "output_type": "error",
     "traceback": [
      "\u001b[0;31m---------------------------------------------------------------------------\u001b[0m",
      "\u001b[0;31mAttributeError\u001b[0m                            Traceback (most recent call last)",
      "\u001b[0;32m<ipython-input-11-5c03b4238634>\u001b[0m in \u001b[0;36m<module>\u001b[0;34m\u001b[0m\n\u001b[0;32m----> 1\u001b[0;31m \u001b[0mmulti_scale_vesselness\u001b[0m \u001b[0;34m=\u001b[0m \u001b[0mitk\u001b[0m\u001b[0;34m.\u001b[0m\u001b[0mMultiScaleHessianBasedMeasureImageFilter\u001b[0m\u001b[0;34m(\u001b[0m\u001b[0;34m)\u001b[0m\u001b[0;34m.\u001b[0m\u001b[0mNew\u001b[0m\u001b[0;34m(\u001b[0m\u001b[0mimage\u001b[0m\u001b[0;34m)\u001b[0m\u001b[0;34m\u001b[0m\u001b[0;34m\u001b[0m\u001b[0m\n\u001b[0m\u001b[1;32m      2\u001b[0m \u001b[0mmulti_scale_vesselness\u001b[0m\u001b[0;34m.\u001b[0m\u001b[0mSetHessianToMeasureFilter\u001b[0m\u001b[0;34m(\u001b[0m\u001b[0mobjectness\u001b[0m\u001b[0;34m)\u001b[0m\u001b[0;34m\u001b[0m\u001b[0;34m\u001b[0m\u001b[0m\n\u001b[1;32m      3\u001b[0m \u001b[0mmulti_scale_vesselness\u001b[0m\u001b[0;34m.\u001b[0m\u001b[0mSetSigmaStepMethodToLogarithmic\u001b[0m\u001b[0;34m(\u001b[0m\u001b[0;34m)\u001b[0m\u001b[0;34m\u001b[0m\u001b[0;34m\u001b[0m\u001b[0m\n\u001b[1;32m      4\u001b[0m \u001b[0mmulti_scale_vesselness\u001b[0m\u001b[0;34m.\u001b[0m\u001b[0mSetSigmaMinimum\u001b[0m\u001b[0;34m(\u001b[0m\u001b[0;36m0.5\u001b[0m\u001b[0;34m)\u001b[0m\u001b[0;34m\u001b[0m\u001b[0;34m\u001b[0m\u001b[0m\n\u001b[1;32m      5\u001b[0m \u001b[0mmulti_scale_vesselness\u001b[0m\u001b[0;34m.\u001b[0m\u001b[0mSetSigmaMaximum\u001b[0m\u001b[0;34m(\u001b[0m\u001b[0;36m1.5\u001b[0m\u001b[0;34m)\u001b[0m\u001b[0;34m\u001b[0m\u001b[0;34m\u001b[0m\u001b[0m\n",
      "\u001b[0;32m~/anaconda3/lib/python3.7/site-packages/itkLazy.py\u001b[0m in \u001b[0;36m__getattribute__\u001b[0;34m(self, attr)\u001b[0m\n\u001b[1;32m     38\u001b[0m \u001b[0;34m\u001b[0m\u001b[0m\n\u001b[1;32m     39\u001b[0m     \u001b[0;32mdef\u001b[0m \u001b[0m__getattribute__\u001b[0m\u001b[0;34m(\u001b[0m\u001b[0mself\u001b[0m\u001b[0;34m,\u001b[0m \u001b[0mattr\u001b[0m\u001b[0;34m)\u001b[0m\u001b[0;34m:\u001b[0m\u001b[0;34m\u001b[0m\u001b[0;34m\u001b[0m\u001b[0m\n\u001b[0;32m---> 40\u001b[0;31m         \u001b[0mvalue\u001b[0m \u001b[0;34m=\u001b[0m \u001b[0mtypes\u001b[0m\u001b[0;34m.\u001b[0m\u001b[0mModuleType\u001b[0m\u001b[0;34m.\u001b[0m\u001b[0m__getattribute__\u001b[0m\u001b[0;34m(\u001b[0m\u001b[0mself\u001b[0m\u001b[0;34m,\u001b[0m \u001b[0mattr\u001b[0m\u001b[0;34m)\u001b[0m\u001b[0;34m\u001b[0m\u001b[0;34m\u001b[0m\u001b[0m\n\u001b[0m\u001b[1;32m     41\u001b[0m         \u001b[0;32mif\u001b[0m \u001b[0mvalue\u001b[0m \u001b[0;32mis\u001b[0m \u001b[0mnot_loaded\u001b[0m\u001b[0;34m:\u001b[0m\u001b[0;34m\u001b[0m\u001b[0;34m\u001b[0m\u001b[0m\n\u001b[1;32m     42\u001b[0m             \u001b[0mmodule\u001b[0m \u001b[0;34m=\u001b[0m \u001b[0mself\u001b[0m\u001b[0;34m.\u001b[0m\u001b[0m__belong_lazy_attributes\u001b[0m\u001b[0;34m[\u001b[0m\u001b[0mattr\u001b[0m\u001b[0;34m]\u001b[0m\u001b[0;34m\u001b[0m\u001b[0;34m\u001b[0m\u001b[0m\n",
      "\u001b[0;31mAttributeError\u001b[0m: module 'itk' has no attribute 'MultiScaleHessianBasedMeasureImageFilter'"
     ]
    }
   ],
   "source": [
    "multi_scale_vesselness = itk.MultiScaleHessianBasedMeasureImageFilter().New(image)\n",
    "multi_scale_vesselness.SetHessianToMeasureFilter(objectness)\n",
    "multi_scale_vesselness.SetSigmaStepMethodToLogarithmic()\n",
    "multi_scale_vesselness.SetSigmaMinimum(0.5)\n",
    "multi_scale_vesselness.SetSigmaMaximum(1.5)\n",
    "multi_scale_vesselness.SetNumberOfSigmaSteps(6)"
   ]
  },
  {
   "cell_type": "code",
   "execution_count": null,
   "metadata": {},
   "outputs": [],
   "source": [
    "itk.Mul"
   ]
  },
  {
   "cell_type": "code",
   "execution_count": null,
   "metadata": {},
   "outputs": [],
   "source": [
    "thresholder = itk.ThresholdImageFilter.New(multi_scale_vesselness)\n",
    "thresholder.ThresholdBelow(10.0)\n",
    "thresholder.Update()\n",
    "#view(thresholder)"
   ]
  },
  {
   "cell_type": "code",
   "execution_count": null,
   "metadata": {},
   "outputs": [],
   "source": [
    "vessel_scale = itk.MultiplyImageFilter.New(thresholder)\n",
    "vessel_scale.SetConstant(2.0)\n",
    "\n",
    "vessel_enhanced = itk.AddImageFilter.New(image)\n",
    "vessel_enhanced.SetInput2(vessel_scale.GetOutput())\n",
    "vessel_enhanced.Update()\n",
    "#view(vessel_enhanced)"
   ]
  },
  {
   "cell_type": "code",
   "execution_count": null,
   "metadata": {},
   "outputs": [],
   "source": [
    "smoothing = itk.GradientAnisotropicDiffusionImageFilter.New(vessel_enhanced)\n",
    "smoothing.SetNumberOfIterations(10)\n",
    "\n",
    "region_growing = itk.ConnectedThresholdImageFilter.New(smoothing)\n",
    "region_growing.SetLower(80)\n",
    "region_growing.SetUpper(110)\n",
    "region_growing.SetReplaceValue(1)\n",
    "index = itk.Index[3]()\n",
    "index[0] = 61\n",
    "index[1] = 61\n",
    "index[2] = 61\n",
    "region_growing.SetSeed(index)\n",
    "region_growing.Update()\n",
    "#view(region_growing)"
   ]
  },
  {
   "cell_type": "code",
   "execution_count": null,
   "metadata": {},
   "outputs": [],
   "source": [
    "tumor = itk.MultiplyImageFilter.New(vessel_enhanced)\n",
    "tumor.SetInput2(region_growing.GetOutput())\n",
    "\n",
    "tumor_scale = itk.MultiplyImageFilter.New(tumor)\n",
    "tumor_scale.SetConstant(-3.0)\n",
    "\n",
    "tumor_enhanced = itk.AddImageFilter.New(vessel_enhanced)\n",
    "tumor_enhanced.SetInput2(tumor_scale)\n",
    "\n",
    "tumor_enhanced.Update()\n",
    "view(tumor_enhanced)"
   ]
  },
  {
   "cell_type": "code",
   "execution_count": null,
   "metadata": {},
   "outputs": [],
   "source": []
  }
 ],
 "metadata": {
  "kernelspec": {
   "display_name": "Python 3",
   "language": "python",
   "name": "python3"
  },
  "language_info": {
   "codemirror_mode": {
    "name": "ipython",
    "version": 3
   },
   "file_extension": ".py",
   "mimetype": "text/x-python",
   "name": "python",
   "nbconvert_exporter": "python",
   "pygments_lexer": "ipython3",
   "version": "3.7.3"
  },
  "toc": {
   "base_numbering": 1,
   "nav_menu": {},
   "number_sections": true,
   "sideBar": true,
   "skip_h1_title": false,
   "title_cell": "Table of Contents",
   "title_sidebar": "Contents",
   "toc_cell": false,
   "toc_position": {},
   "toc_section_display": true,
   "toc_window_display": false
  }
 },
 "nbformat": 4,
 "nbformat_minor": 2
}

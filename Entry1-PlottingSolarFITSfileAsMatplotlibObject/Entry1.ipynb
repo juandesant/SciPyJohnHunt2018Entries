{
 "cells": [
  {
   "cell_type": "code",
   "execution_count": null,
   "metadata": {},
   "outputs": [],
   "source": [
    "\n",
    "from astropy.wcs import WCS\n",
    "import astropy.units as u\n",
    "from astropy.io import fits\n",
    "import matploblib.pyplot as plt\n",
    "\n"
   ]
  },
  {
   "cell_type": "code",
   "execution_count": null,
   "metadata": {},
   "outputs": [],
   "source": [
    "%matplotlib inline"
   ]
  },
  {
   "cell_type": "code",
   "execution_count": null,
   "metadata": {},
   "outputs": [],
   "source": [
    "def plot_user_input(fits_filename, tick_spacing, x_tick_position, y_tick_position, unit_x_axis = None, unit_y_axis = None,\n",
    "               tick_style = None, xlabel = None, ylabel = None ):\n",
    "    \n",
    "    hdu = fits.open(fits_filename)[0]\n",
    "    wcs = WCS(hdu.header)\n",
    "    \n",
    "    fig = plt.figure(figsize=(6,6))\n",
    "    ax = fig.add_axes([0.15, 0.1, 0.8, 0.8], projection=wcs)\n",
    "    \n",
    "    ax.imshow(hdu.data, cmap=plt.cm.gist_heat, \n",
    "              origin='lower')\n",
    "\n",
    "    \n",
    "    lon = ax.coords[0]\n",
    "    lat = ax.coords[1]\n",
    "    \n",
    "    if(unit_x_axis == None):\n",
    "        unit_x_axis = wcs.wcs.cunit[0]\n",
    "        lat.set_format_unit(unit_x_axis)\n",
    "    else:\n",
    "        lat.set_format_unit(u.Unit(unit_x_axis))\n",
    "    \n",
    "    if(unit_y_axis == None):\n",
    "        unit_y_axis = wcs.wcs.cunit[1]\n",
    "        lon.set_format_unit(unit_y_axis)\n",
    "    else:\n",
    "        lon.set_format_unit(u.Unit(unit_y_axis))\n",
    "    \n",
    "    if(tick_style == None):\n",
    "        ax.ticklabel_format(style='sci')\n",
    "    else:\n",
    "        ax.ticklabel_format(style=tick_style)\n",
    "            \n",
    "    if(xlabel == None):\n",
    "        lat.set_axislabel('Galactic Latitude')\n",
    "    else:\n",
    "        lat.set_axislabel(xlabel)\n",
    "        \n",
    "    if(ylabel == None):\n",
    "        lon.set_axislabel('Galactic Longitude')\n",
    "    else:\n",
    "        lon.set_axislabel(ylabel)\n",
    "        \n",
    "    lon.set_axislabel_position(x_tick_position)\n",
    "    lat.set_axislabel_position(y_tick_position)\n",
    "        \n",
    "    lon.set_ticks(spacing=tick_spacing * u.arcsec, color='white', exclude_overlapping=True)\n",
    "    lat.set_ticks(spacing=tick_spacing * u.arcsec, color='white', exclude_overlapping=True)      \n"
   ]
  },
  {
   "cell_type": "code",
   "execution_count": null,
   "metadata": {},
   "outputs": [],
   "source": [
    "plot_user_input('resampled2_swap.fits',20, 't', 'r')"
   ]
  },
  {
   "cell_type": "code",
   "execution_count": null,
   "metadata": {},
   "outputs": [],
   "source": []
  }
 ],
 "metadata": {
  "anaconda-cloud": {},
  "kernelspec": {
   "display_name": "Python 3",
   "language": "python",
   "name": "python3"
  },
  "language_info": {
   "codemirror_mode": {
    "name": "ipython",
    "version": 3
   },
   "file_extension": ".py",
   "mimetype": "text/x-python",
   "name": "python",
   "nbconvert_exporter": "python",
   "pygments_lexer": "ipython3",
   "version": "3.7.3"
  },
  "toc": {
   "base_numbering": 1,
   "nav_menu": {},
   "number_sections": true,
   "sideBar": true,
   "skip_h1_title": false,
   "title_cell": "Table of Contents",
   "title_sidebar": "Contents",
   "toc_cell": false,
   "toc_position": {},
   "toc_section_display": true,
   "toc_window_display": false
  }
 },
 "nbformat": 4,
 "nbformat_minor": 2
}
